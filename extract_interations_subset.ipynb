{
 "cells": [
  {
   "cell_type": "code",
   "execution_count": 1,
   "id": "069884a3-4b01-4a34-adb8-c4474a62fa25",
   "metadata": {},
   "outputs": [],
   "source": [
    "import pandas as pd\n",
    "import requests\n",
    "import os\n",
    "import gzip\n",
    "import json\n",
    "import re\n",
    "import os\n",
    "import sys\n",
    "import numpy as np\n",
    "import pandas as pd\n",
    "from collections import defaultdict, Counter"
   ]
  },
  {
   "cell_type": "code",
   "execution_count": 2,
   "id": "a2871ff9-f099-4de9-a3e1-2cd110e71483",
   "metadata": {},
   "outputs": [],
   "source": [
    "DIR = './data'"
   ]
  },
  {
   "cell_type": "code",
   "execution_count": null,
   "id": "869ceff7-94e6-491b-ad9d-6bbd8440960a",
   "metadata": {},
   "outputs": [],
   "source": [
    "def load_interations(file_name, max_user_cnt=20000, max_user_with_min_interation_cnt = 1000, min_interations = 120):\n",
    "    count = 0\n",
    "    data = []\n",
    "    user_interations = dict()\n",
    "    users_with_min_interation = set()\n",
    "    with open(file_name) as fin:\n",
    "        for l in fin:\n",
    "            d = json.loads(l)\n",
    "            # Check if 'is_read' is true before processing the entry\n",
    "            if d.get('is_read', False):  # This correctly checks for True\n",
    "                user_id = d[\"user_id\"]\n",
    "                if user_id not in user_interations and len(user_interations) < max_user_cnt :\n",
    "                    user_interations[user_id] = 1\n",
    "                else :\n",
    "                    user_interations[user_id] +=1\n",
    "                    if user_interations[user_id] > min_interations :\n",
    "                        users_with_min_interation.add(user_id)\n",
    "                if user_id in user_interations :\n",
    "                    data.append(d)\n",
    "                if len(users_with_min_interation) >= max_user_with_min_interation_cnt :\n",
    "                    break\n",
    "    filtered_data = [entry for entry in data if entry[\"user_id\"] in users_with_min_interation]\n",
    "\n",
    "    return filtered_data"
   ]
  },
  {
   "cell_type": "code",
   "execution_count": 12,
   "id": "c1e679db-f55a-43bf-a646-9293b343fd73",
   "metadata": {},
   "outputs": [],
   "source": [
    "interactions = load_interations(os.path.join(DIR, 'goodreads_interactions_dedup.json.gz'))"
   ]
  },
  {
   "cell_type": "code",
   "execution_count": 13,
   "id": "30cdcc1e-ddc0-4dcc-ae01-e1e0147553dc",
   "metadata": {},
   "outputs": [
    {
     "name": "stdout",
     "output_type": "stream",
     "text": [
      "[{'user_id': '8842281e1d1347389f2ab93d60773d4d', 'book_id': '34684622', 'review_id': 'a53868823f065a0e20fd4ae98b820674', 'is_read': False, 'rating': 0, 'review_text_incomplete': '', 'date_added': 'Tue Oct 17 09:40:11 -0700 2017', 'date_updated': 'Tue Oct 17 09:40:12 -0700 2017', 'read_at': '', 'started_at': ''}]\n"
     ]
    }
   ],
   "source": [
    "print(interactions[:1])"
   ]
  },
  {
   "cell_type": "code",
   "execution_count": 14,
   "id": "ae557aba-2de2-4989-b7f3-c6ef92850bda",
   "metadata": {},
   "outputs": [
    {
     "name": "stdout",
     "output_type": "stream",
     "text": [
      "user count:  1000  book count:  204839\n"
     ]
    }
   ],
   "source": [
    "unique_user_count = len(set(item[\"user_id\"] for item in interactions))\n",
    "unique_book_count = len(set(item[\"book_id\"] for item in interactions))\n",
    "print(\"user count: \", unique_user_count, \" book count: \", unique_book_count)"
   ]
  },
  {
   "cell_type": "code",
   "execution_count": 15,
   "id": "dea44306-7ae1-41cf-87ba-029e48a9e8f3",
   "metadata": {},
   "outputs": [
    {
     "name": "stdout",
     "output_type": "stream",
     "text": [
      "(200.0, 500.0]     41.0\n",
      "(100.0, 200.0]     26.5\n",
      "(500.0, 1000.0]    20.3\n",
      "(1000.0, inf]      12.2\n",
      "(50.0, 100.0]       0.0\n",
      "(0.0, 50.0]         0.0\n",
      "Name: proportion, dtype: float64\n"
     ]
    }
   ],
   "source": [
    "df = pd.DataFrame(interactions)\n",
    "user_book_counts = df.groupby('user_id').size()\n",
    "\n",
    "bucketed_counts = pd.cut(user_book_counts, bins=[0, 50, 100, 200, 500, 1000,  float('inf')])\n",
    "\n",
    "distribution = bucketed_counts.value_counts(normalize=True) * 100  # In percentage\n",
    "print(distribution)"
   ]
  },
  {
   "cell_type": "code",
   "execution_count": null,
   "id": "e6562555-652b-433c-9661-a35f11a1566c",
   "metadata": {},
   "outputs": [],
   "source": [
    "unique_book_ids = {item[\"book_id\"] for item in interactions}\n",
    "df = pd.DataFrame(unique_book_ids, columns=[\"book_id\"])\n",
    "df.to_csv(os.path.join(DIR, \"goodreads_interactions_1k_users_book_ids.csv\"), index=False)"
   ]
  },
  {
   "cell_type": "code",
   "execution_count": null,
   "id": "315e2f1c-1932-48bc-9e11-72f9fd721ebd",
   "metadata": {},
   "outputs": [],
   "source": [
    "df = pd.DataFrame(interactions)\n",
    "df.to_json(os.path.join(DIR, \"goodreads_interactions_1k_users.json.gz\"), orient=\"records\", compression=\"gzip\")"
   ]
  }
 ],
 "metadata": {
  "kernelspec": {
   "display_name": "cs229Proj",
   "language": "python",
   "name": "python3"
  },
  "language_info": {
   "codemirror_mode": {
    "name": "ipython",
    "version": 3
   },
   "file_extension": ".py",
   "mimetype": "text/x-python",
   "name": "python",
   "nbconvert_exporter": "python",
   "pygments_lexer": "ipython3",
   "version": "3.11.10"
  }
 },
 "nbformat": 4,
 "nbformat_minor": 5
}
